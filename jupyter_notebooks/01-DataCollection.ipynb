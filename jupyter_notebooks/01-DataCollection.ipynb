{
  "cells": [
    {
      "cell_type": "markdown",
      "metadata": {
        "id": "0aStgWSO0E0E"
      },
      "source": [
        "# **Data Collection**"
      ]
    },
    {
      "cell_type": "markdown",
      "metadata": {
        "id": "1eLEkw5O0ECa"
      },
      "source": [
        "## Objectives\n",
        "\n",
        "* Fetch data from Kaggle and prepare for further processes\n",
        "\n",
        "## Inputs\n",
        "\n",
        "* Kaggle JSON file - the authentication token.\n",
        " \n",
        "\n",
        "## Outputs\n",
        "\n",
        "* Generate Dataset: inputs/datasets/MildewDataset\n",
        "\n",
        "## Additional Comments\n",
        "\n",
        "* In case you have any additional comments that don't fit in the previous bullets, please state them here. \n",
        "\n"
      ]
    },
    {
      "cell_type": "markdown",
      "metadata": {
        "id": "9uWZXH9LwoQg"
      },
      "source": [
        "---"
      ]
    },
    {
      "cell_type": "markdown",
      "metadata": {
        "id": "cqP-UeN-z3i2"
      },
      "source": [
        "# Change working directory"
      ]
    },
    {
      "cell_type": "markdown",
      "metadata": {},
      "source": [
        "* We are assuming you will store the notebooks in a subfolder, therefore when running the notebook in the editor, you will need to change the working directory"
      ]
    },
    {
      "cell_type": "markdown",
      "metadata": {
        "id": "aOGIGS-uz3i2"
      },
      "source": [
        "We need to change the working directory from its current folder to its parent folder\n",
        "* We access the current directory with os.getcwd()"
      ]
    },
    {
      "cell_type": "code",
      "execution_count": 2,
      "metadata": {
        "id": "wZfF_j-Bz3i4",
        "outputId": "66943449-1436-4c3d-85c7-b85f9f78349b"
      },
      "outputs": [
        {
          "data": {
            "text/plain": [
              "'/workspace/mildewprac/jupyter_notebooks'"
            ]
          },
          "execution_count": 2,
          "metadata": {},
          "output_type": "execute_result"
        }
      ],
      "source": [
        "import os\n",
        "current_dir = os.getcwd()\n",
        "current_dir"
      ]
    },
    {
      "cell_type": "markdown",
      "metadata": {
        "id": "9MWW8E7lz3i7"
      },
      "source": [
        "We want to make the parent of the current directory the new current directory\n",
        "* os.path.dirname() gets the parent directory\n",
        "* os.chir() defines the new current directory"
      ]
    },
    {
      "cell_type": "code",
      "execution_count": 3,
      "metadata": {
        "id": "TwHsQRWjz3i9",
        "outputId": "86849db3-cd2f-4cc5-ebb8-2d0caafa1a2c"
      },
      "outputs": [
        {
          "name": "stdout",
          "output_type": "stream",
          "text": [
            "You set a new current directory\n"
          ]
        }
      ],
      "source": [
        "os.chdir(os.path.dirname(current_dir))\n",
        "print(\"You set a new current directory\")"
      ]
    },
    {
      "cell_type": "markdown",
      "metadata": {
        "id": "M_xPk_Ijz3i-"
      },
      "source": [
        "Confirm the new current directory"
      ]
    },
    {
      "cell_type": "code",
      "execution_count": 4,
      "metadata": {
        "id": "vz3S-_kjz3jA",
        "outputId": "00b79ae4-75d0-4a96-d193-ac9ef9847ea2"
      },
      "outputs": [
        {
          "data": {
            "text/plain": [
              "'/workspace/mildewprac'"
            ]
          },
          "execution_count": 4,
          "metadata": {},
          "output_type": "execute_result"
        }
      ],
      "source": [
        "current_dir = os.getcwd()\n",
        "current_dir"
      ]
    },
    {
      "cell_type": "markdown",
      "metadata": {
        "id": "-mavJ8DibrcQ"
      },
      "source": [
        "# Import Packages\n"
      ]
    },
    {
      "cell_type": "code",
      "execution_count": 5,
      "metadata": {},
      "outputs": [
        {
          "name": "stdout",
          "output_type": "stream",
          "text": [
            "Requirement already satisfied: absl-py==2.1.0 in ./.venv/lib/python3.12/site-packages (from -r /workspace/mildewprac/requirements.txt (line 1)) (2.1.0)\n",
            "Requirement already satisfied: altair==5.2.0 in ./.venv/lib/python3.12/site-packages (from -r /workspace/mildewprac/requirements.txt (line 2)) (5.2.0)\n",
            "Requirement already satisfied: astunparse==1.6.3 in ./.venv/lib/python3.12/site-packages (from -r /workspace/mildewprac/requirements.txt (line 3)) (1.6.3)\n",
            "Requirement already satisfied: blinker==1.7.0 in ./.venv/lib/python3.12/site-packages (from -r /workspace/mildewprac/requirements.txt (line 4)) (1.7.0)\n",
            "Requirement already satisfied: cachetools==5.3.3 in ./.venv/lib/python3.12/site-packages (from -r /workspace/mildewprac/requirements.txt (line 5)) (5.3.3)\n",
            "Requirement already satisfied: click==8.1.7 in ./.venv/lib/python3.12/site-packages (from -r /workspace/mildewprac/requirements.txt (line 6)) (8.1.7)\n",
            "Requirement already satisfied: contourpy==1.2.0 in ./.venv/lib/python3.12/site-packages (from -r /workspace/mildewprac/requirements.txt (line 7)) (1.2.0)\n",
            "Requirement already satisfied: cycler==0.12.1 in ./.venv/lib/python3.12/site-packages (from -r /workspace/mildewprac/requirements.txt (line 8)) (0.12.1)\n",
            "Requirement already satisfied: dm-tree==0.1.8 in ./.venv/lib/python3.12/site-packages (from -r /workspace/mildewprac/requirements.txt (line 9)) (0.1.8)\n",
            "Requirement already satisfied: flatbuffers==23.5.26 in ./.venv/lib/python3.12/site-packages (from -r /workspace/mildewprac/requirements.txt (line 10)) (23.5.26)\n",
            "Requirement already satisfied: fonttools==4.49.0 in ./.venv/lib/python3.12/site-packages (from -r /workspace/mildewprac/requirements.txt (line 11)) (4.49.0)\n",
            "Requirement already satisfied: gast==0.5.4 in ./.venv/lib/python3.12/site-packages (from -r /workspace/mildewprac/requirements.txt (line 12)) (0.5.4)\n",
            "Requirement already satisfied: gitdb==4.0.11 in ./.venv/lib/python3.12/site-packages (from -r /workspace/mildewprac/requirements.txt (line 13)) (4.0.11)\n",
            "Requirement already satisfied: GitPython==3.1.42 in ./.venv/lib/python3.12/site-packages (from -r /workspace/mildewprac/requirements.txt (line 14)) (3.1.42)\n",
            "Requirement already satisfied: google-pasta==0.2.0 in ./.venv/lib/python3.12/site-packages (from -r /workspace/mildewprac/requirements.txt (line 15)) (0.2.0)\n",
            "Requirement already satisfied: grpcio==1.62.0 in ./.venv/lib/python3.12/site-packages (from -r /workspace/mildewprac/requirements.txt (line 16)) (1.62.0)\n",
            "Requirement already satisfied: h5py==3.10.0 in ./.venv/lib/python3.12/site-packages (from -r /workspace/mildewprac/requirements.txt (line 17)) (3.10.0)\n",
            "Requirement already satisfied: joblib==1.3.2 in ./.venv/lib/python3.12/site-packages (from -r /workspace/mildewprac/requirements.txt (line 18)) (1.3.2)\n",
            "Requirement already satisfied: keras==3.0.5 in ./.venv/lib/python3.12/site-packages (from -r /workspace/mildewprac/requirements.txt (line 19)) (3.0.5)\n",
            "Requirement already satisfied: kiwisolver==1.4.5 in ./.venv/lib/python3.12/site-packages (from -r /workspace/mildewprac/requirements.txt (line 20)) (1.4.5)\n",
            "Requirement already satisfied: libclang==16.0.6 in ./.venv/lib/python3.12/site-packages (from -r /workspace/mildewprac/requirements.txt (line 21)) (16.0.6)\n",
            "Requirement already satisfied: Markdown==3.5.2 in ./.venv/lib/python3.12/site-packages (from -r /workspace/mildewprac/requirements.txt (line 22)) (3.5.2)\n",
            "Requirement already satisfied: matplotlib==3.8.3 in ./.venv/lib/python3.12/site-packages (from -r /workspace/mildewprac/requirements.txt (line 23)) (3.8.3)\n",
            "Requirement already satisfied: ml-dtypes==0.3.2 in ./.venv/lib/python3.12/site-packages (from -r /workspace/mildewprac/requirements.txt (line 24)) (0.3.2)\n",
            "Requirement already satisfied: namex==0.0.7 in ./.venv/lib/python3.12/site-packages (from -r /workspace/mildewprac/requirements.txt (line 25)) (0.0.7)\n",
            "Requirement already satisfied: numpy==1.26.4 in ./.venv/lib/python3.12/site-packages (from -r /workspace/mildewprac/requirements.txt (line 26)) (1.26.4)\n",
            "Requirement already satisfied: opt-einsum==3.3.0 in ./.venv/lib/python3.12/site-packages (from -r /workspace/mildewprac/requirements.txt (line 27)) (3.3.0)\n",
            "Requirement already satisfied: pandas==2.2.1 in ./.venv/lib/python3.12/site-packages (from -r /workspace/mildewprac/requirements.txt (line 28)) (2.2.1)\n",
            "Requirement already satisfied: pillow==10.2.0 in ./.venv/lib/python3.12/site-packages (from -r /workspace/mildewprac/requirements.txt (line 29)) (10.2.0)\n",
            "Requirement already satisfied: plotly==5.19.0 in ./.venv/lib/python3.12/site-packages (from -r /workspace/mildewprac/requirements.txt (line 30)) (5.19.0)\n",
            "Requirement already satisfied: protobuf==4.25.3 in ./.venv/lib/python3.12/site-packages (from -r /workspace/mildewprac/requirements.txt (line 31)) (4.25.3)\n",
            "Requirement already satisfied: pyarrow==15.0.0 in ./.venv/lib/python3.12/site-packages (from -r /workspace/mildewprac/requirements.txt (line 32)) (15.0.0)\n",
            "Requirement already satisfied: pydeck==0.8.1b0 in ./.venv/lib/python3.12/site-packages (from -r /workspace/mildewprac/requirements.txt (line 33)) (0.8.1b0)\n",
            "Requirement already satisfied: pyparsing==3.1.1 in ./.venv/lib/python3.12/site-packages (from -r /workspace/mildewprac/requirements.txt (line 34)) (3.1.1)\n",
            "Requirement already satisfied: pytz==2024.1 in ./.venv/lib/python3.12/site-packages (from -r /workspace/mildewprac/requirements.txt (line 35)) (2024.1)\n",
            "Requirement already satisfied: scikit-learn==1.4.1.post1 in ./.venv/lib/python3.12/site-packages (from -r /workspace/mildewprac/requirements.txt (line 36)) (1.4.1.post1)\n",
            "Requirement already satisfied: scipy==1.12.0 in ./.venv/lib/python3.12/site-packages (from -r /workspace/mildewprac/requirements.txt (line 37)) (1.12.0)\n",
            "Requirement already satisfied: seaborn==0.13.2 in ./.venv/lib/python3.12/site-packages (from -r /workspace/mildewprac/requirements.txt (line 38)) (0.13.2)\n",
            "Requirement already satisfied: smmap==5.0.1 in ./.venv/lib/python3.12/site-packages (from -r /workspace/mildewprac/requirements.txt (line 39)) (5.0.1)\n",
            "Requirement already satisfied: streamlit==1.31.1 in ./.venv/lib/python3.12/site-packages (from -r /workspace/mildewprac/requirements.txt (line 40)) (1.31.1)\n",
            "Requirement already satisfied: tenacity==8.2.3 in ./.venv/lib/python3.12/site-packages (from -r /workspace/mildewprac/requirements.txt (line 41)) (8.2.3)\n",
            "Requirement already satisfied: tensorboard==2.16.2 in ./.venv/lib/python3.12/site-packages (from -r /workspace/mildewprac/requirements.txt (line 42)) (2.16.2)\n",
            "Requirement already satisfied: tensorboard-data-server==0.7.2 in ./.venv/lib/python3.12/site-packages (from -r /workspace/mildewprac/requirements.txt (line 43)) (0.7.2)\n",
            "Requirement already satisfied: tensorflow-cpu==2.16.0rc0 in ./.venv/lib/python3.12/site-packages (from -r /workspace/mildewprac/requirements.txt (line 44)) (2.16.0rc0)\n",
            "Requirement already satisfied: termcolor==2.4.0 in ./.venv/lib/python3.12/site-packages (from -r /workspace/mildewprac/requirements.txt (line 45)) (2.4.0)\n",
            "Requirement already satisfied: threadpoolctl==3.3.0 in ./.venv/lib/python3.12/site-packages (from -r /workspace/mildewprac/requirements.txt (line 46)) (3.3.0)\n",
            "Requirement already satisfied: toml==0.10.2 in ./.venv/lib/python3.12/site-packages (from -r /workspace/mildewprac/requirements.txt (line 47)) (0.10.2)\n",
            "Requirement already satisfied: toolz==0.12.1 in ./.venv/lib/python3.12/site-packages (from -r /workspace/mildewprac/requirements.txt (line 48)) (0.12.1)\n",
            "Requirement already satisfied: tzdata==2024.1 in ./.venv/lib/python3.12/site-packages (from -r /workspace/mildewprac/requirements.txt (line 49)) (2024.1)\n",
            "Requirement already satisfied: tzlocal==5.2 in ./.venv/lib/python3.12/site-packages (from -r /workspace/mildewprac/requirements.txt (line 50)) (5.2)\n",
            "Requirement already satisfied: validators==0.22.0 in ./.venv/lib/python3.12/site-packages (from -r /workspace/mildewprac/requirements.txt (line 51)) (0.22.0)\n",
            "Requirement already satisfied: watchdog==4.0.0 in ./.venv/lib/python3.12/site-packages (from -r /workspace/mildewprac/requirements.txt (line 52)) (4.0.0)\n",
            "Requirement already satisfied: Werkzeug==3.0.1 in ./.venv/lib/python3.12/site-packages (from -r /workspace/mildewprac/requirements.txt (line 53)) (3.0.1)\n",
            "Requirement already satisfied: wrapt==1.16.0 in ./.venv/lib/python3.12/site-packages (from -r /workspace/mildewprac/requirements.txt (line 54)) (1.16.0)\n",
            "Requirement already satisfied: jinja2 in ./.venv/lib/python3.12/site-packages (from altair==5.2.0->-r /workspace/mildewprac/requirements.txt (line 2)) (3.1.3)\n",
            "Requirement already satisfied: jsonschema>=3.0 in ./.venv/lib/python3.12/site-packages (from altair==5.2.0->-r /workspace/mildewprac/requirements.txt (line 2)) (4.21.1)\n",
            "Requirement already satisfied: packaging in ./.venv/lib/python3.12/site-packages (from altair==5.2.0->-r /workspace/mildewprac/requirements.txt (line 2)) (23.2)\n",
            "Requirement already satisfied: wheel<1.0,>=0.23.0 in ./.venv/lib/python3.12/site-packages (from astunparse==1.6.3->-r /workspace/mildewprac/requirements.txt (line 3)) (0.42.0)\n",
            "Requirement already satisfied: six<2.0,>=1.6.1 in ./.venv/lib/python3.12/site-packages (from astunparse==1.6.3->-r /workspace/mildewprac/requirements.txt (line 3)) (1.16.0)\n",
            "Requirement already satisfied: rich in ./.venv/lib/python3.12/site-packages (from keras==3.0.5->-r /workspace/mildewprac/requirements.txt (line 19)) (13.7.1)\n",
            "Requirement already satisfied: python-dateutil>=2.7 in ./.venv/lib/python3.12/site-packages (from matplotlib==3.8.3->-r /workspace/mildewprac/requirements.txt (line 23)) (2.8.2)\n",
            "Requirement already satisfied: importlib-metadata<8,>=1.4 in ./.venv/lib/python3.12/site-packages (from streamlit==1.31.1->-r /workspace/mildewprac/requirements.txt (line 40)) (7.0.1)\n",
            "Requirement already satisfied: requests<3,>=2.27 in ./.venv/lib/python3.12/site-packages (from streamlit==1.31.1->-r /workspace/mildewprac/requirements.txt (line 40)) (2.31.0)\n",
            "Requirement already satisfied: typing-extensions<5,>=4.3.0 in ./.venv/lib/python3.12/site-packages (from streamlit==1.31.1->-r /workspace/mildewprac/requirements.txt (line 40)) (4.10.0)\n",
            "Requirement already satisfied: tornado<7,>=6.0.3 in ./.venv/lib/python3.12/site-packages (from streamlit==1.31.1->-r /workspace/mildewprac/requirements.txt (line 40)) (6.4)\n",
            "Requirement already satisfied: setuptools>=41.0.0 in ./.venv/lib/python3.12/site-packages (from tensorboard==2.16.2->-r /workspace/mildewprac/requirements.txt (line 42)) (69.1.1)\n",
            "Requirement already satisfied: MarkupSafe>=2.1.1 in ./.venv/lib/python3.12/site-packages (from Werkzeug==3.0.1->-r /workspace/mildewprac/requirements.txt (line 53)) (2.1.5)\n",
            "Requirement already satisfied: zipp>=0.5 in ./.venv/lib/python3.12/site-packages (from importlib-metadata<8,>=1.4->streamlit==1.31.1->-r /workspace/mildewprac/requirements.txt (line 40)) (3.17.0)\n",
            "Requirement already satisfied: attrs>=22.2.0 in ./.venv/lib/python3.12/site-packages (from jsonschema>=3.0->altair==5.2.0->-r /workspace/mildewprac/requirements.txt (line 2)) (23.2.0)\n",
            "Requirement already satisfied: jsonschema-specifications>=2023.03.6 in ./.venv/lib/python3.12/site-packages (from jsonschema>=3.0->altair==5.2.0->-r /workspace/mildewprac/requirements.txt (line 2)) (2023.12.1)\n",
            "Requirement already satisfied: referencing>=0.28.4 in ./.venv/lib/python3.12/site-packages (from jsonschema>=3.0->altair==5.2.0->-r /workspace/mildewprac/requirements.txt (line 2)) (0.33.0)\n",
            "Requirement already satisfied: rpds-py>=0.7.1 in ./.venv/lib/python3.12/site-packages (from jsonschema>=3.0->altair==5.2.0->-r /workspace/mildewprac/requirements.txt (line 2)) (0.18.0)\n",
            "Requirement already satisfied: charset-normalizer<4,>=2 in ./.venv/lib/python3.12/site-packages (from requests<3,>=2.27->streamlit==1.31.1->-r /workspace/mildewprac/requirements.txt (line 40)) (3.3.2)\n",
            "Requirement already satisfied: idna<4,>=2.5 in ./.venv/lib/python3.12/site-packages (from requests<3,>=2.27->streamlit==1.31.1->-r /workspace/mildewprac/requirements.txt (line 40)) (3.6)\n",
            "Requirement already satisfied: urllib3<3,>=1.21.1 in ./.venv/lib/python3.12/site-packages (from requests<3,>=2.27->streamlit==1.31.1->-r /workspace/mildewprac/requirements.txt (line 40)) (2.2.1)\n",
            "Requirement already satisfied: certifi>=2017.4.17 in ./.venv/lib/python3.12/site-packages (from requests<3,>=2.27->streamlit==1.31.1->-r /workspace/mildewprac/requirements.txt (line 40)) (2024.2.2)\n",
            "Requirement already satisfied: markdown-it-py>=2.2.0 in ./.venv/lib/python3.12/site-packages (from rich->keras==3.0.5->-r /workspace/mildewprac/requirements.txt (line 19)) (3.0.0)\n",
            "Requirement already satisfied: pygments<3.0.0,>=2.13.0 in ./.venv/lib/python3.12/site-packages (from rich->keras==3.0.5->-r /workspace/mildewprac/requirements.txt (line 19)) (2.17.2)\n",
            "Requirement already satisfied: mdurl~=0.1 in ./.venv/lib/python3.12/site-packages (from markdown-it-py>=2.2.0->rich->keras==3.0.5->-r /workspace/mildewprac/requirements.txt (line 19)) (0.1.2)\n",
            "Note: you may need to restart the kernel to use updated packages.\n"
          ]
        }
      ],
      "source": [
        "%pip install -r /workspace/mildewprac/requirements.txt"
      ]
    },
    {
      "cell_type": "markdown",
      "metadata": {
        "id": "ZY3l0-AxO93d"
      },
      "source": [
        "---"
      ]
    },
    {
      "cell_type": "code",
      "execution_count": 6,
      "metadata": {},
      "outputs": [],
      "source": [
        "import numpy as np\n",
        "import os"
      ]
    },
    {
      "cell_type": "code",
      "execution_count": 7,
      "metadata": {},
      "outputs": [
        {
          "name": "stdout",
          "output_type": "stream",
          "text": [
            "Requirement already satisfied: kaggle in ./.venv/lib/python3.12/site-packages (1.6.6)\n",
            "Requirement already satisfied: six>=1.10 in ./.venv/lib/python3.12/site-packages (from kaggle) (1.16.0)\n",
            "Requirement already satisfied: certifi in ./.venv/lib/python3.12/site-packages (from kaggle) (2024.2.2)\n",
            "Requirement already satisfied: python-dateutil in ./.venv/lib/python3.12/site-packages (from kaggle) (2.8.2)\n",
            "Requirement already satisfied: requests in ./.venv/lib/python3.12/site-packages (from kaggle) (2.31.0)\n",
            "Requirement already satisfied: tqdm in ./.venv/lib/python3.12/site-packages (from kaggle) (4.66.2)\n",
            "Requirement already satisfied: python-slugify in ./.venv/lib/python3.12/site-packages (from kaggle) (8.0.4)\n",
            "Requirement already satisfied: urllib3 in ./.venv/lib/python3.12/site-packages (from kaggle) (2.2.1)\n",
            "Requirement already satisfied: bleach in ./.venv/lib/python3.12/site-packages (from kaggle) (6.1.0)\n",
            "Requirement already satisfied: webencodings in ./.venv/lib/python3.12/site-packages (from bleach->kaggle) (0.5.1)\n",
            "Requirement already satisfied: text-unidecode>=1.3 in ./.venv/lib/python3.12/site-packages (from python-slugify->kaggle) (1.3)\n",
            "Requirement already satisfied: charset-normalizer<4,>=2 in ./.venv/lib/python3.12/site-packages (from requests->kaggle) (3.3.2)\n",
            "Requirement already satisfied: idna<4,>=2.5 in ./.venv/lib/python3.12/site-packages (from requests->kaggle) (3.6)\n"
          ]
        },
        {
          "name": "stdout",
          "output_type": "stream",
          "text": [
            "Note: you may need to restart the kernel to use updated packages.\n"
          ]
        }
      ],
      "source": [
        "%pip install kaggle"
      ]
    },
    {
      "cell_type": "markdown",
      "metadata": {},
      "source": [
        "---"
      ]
    },
    {
      "cell_type": "code",
      "execution_count": 8,
      "metadata": {},
      "outputs": [],
      "source": [
        "os.environ['KAGGLE_CONFIG_DIR'] = os.getcwd()\n",
        "! chmod 600 kaggle.json"
      ]
    },
    {
      "cell_type": "markdown",
      "metadata": {},
      "source": [
        "NOTE"
      ]
    },
    {
      "cell_type": "code",
      "execution_count": 10,
      "metadata": {},
      "outputs": [
        {
          "name": "stdout",
          "output_type": "stream",
          "text": [
            "Downloading cherry-leaves.zip to inputs/mildew_dataset\n",
            " 95%|███████████████████████████████████▉  | 52.0M/55.0M [00:01<00:00, 34.3MB/s]\n",
            "100%|██████████████████████████████████████| 55.0M/55.0M [00:02<00:00, 28.5MB/s]\n"
          ]
        }
      ],
      "source": [
        "KaggleDatasetPath = \"codeinstitute/cherry-leaves\"\n",
        "DestinationFolder = \"inputs/mildew_dataset\"   \n",
        "! kaggle datasets download -d {KaggleDatasetPath} -p {DestinationFolder}"
      ]
    },
    {
      "cell_type": "code",
      "execution_count": 11,
      "metadata": {},
      "outputs": [],
      "source": [
        "import zipfile\n",
        "with zipfile.ZipFile(DestinationFolder + '/cherry-leaves.zip', 'r') as zip_ref:\n",
        "    zip_ref.extractall(DestinationFolder)\n",
        "\n",
        "os.remove(DestinationFolder + '/cherry-leaves.zip')"
      ]
    },
    {
      "cell_type": "markdown",
      "metadata": {},
      "source": [
        "---"
      ]
    },
    {
      "cell_type": "markdown",
      "metadata": {
        "id": "ltNetd085qHf"
      },
      "source": [
        "# Push files to Repo"
      ]
    },
    {
      "cell_type": "markdown",
      "metadata": {},
      "source": [
        "* If you don't need to push files to Repo, you may replace this section with \"Conclusions and Next Steps\" and state your conclusions and next steps."
      ]
    }
  ],
  "metadata": {
    "accelerator": "GPU",
    "colab": {
      "name": "Data Practitioner Jupyter Notebook.ipynb",
      "provenance": [],
      "toc_visible": true
    },
    "interpreter": {
      "hash": "8b8334dab9339717f727a1deaf837b322d7a41c20d15cc86be99a8e69ceec8ce"
    },
    "kernelspec": {
      "display_name": "Python 3.8.12 64-bit ('3.8.12': pyenv)",
      "name": "python3"
    },
    "language_info": {
      "codemirror_mode": {
        "name": "ipython",
        "version": 3
      },
      "file_extension": ".py",
      "mimetype": "text/x-python",
      "name": "python",
      "nbconvert_exporter": "python",
      "pygments_lexer": "ipython3",
      "version": "3.12.2"
    },
    "orig_nbformat": 2
  },
  "nbformat": 4,
  "nbformat_minor": 2
}
